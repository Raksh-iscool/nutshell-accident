{
 "cells": [
  {
   "cell_type": "code",
   "execution_count": 1,
   "metadata": {},
   "outputs": [
    {
     "name": "stderr",
     "output_type": "stream",
     "text": [
      "c:\\Users\\bluesense\\AppData\\Local\\Programs\\Python\\Python312\\Lib\\site-packages\\tqdm\\auto.py:21: TqdmWarning: IProgress not found. Please update jupyter and ipywidgets. See https://ipywidgets.readthedocs.io/en/stable/user_install.html\n",
      "  from .autonotebook import tqdm as notebook_tqdm\n"
     ]
    }
   ],
   "source": [
    "import numpy as np \n",
    "import pandas as pd \n",
    "import matplotlib.pyplot as plt\n",
    "import seaborn as sns\n",
    "from sklearn.feature_selection import SelectKBest\n",
    "from sklearn.preprocessing import LabelEncoder, OrdinalEncoder\n",
    "from sklearn.feature_selection import chi2\n",
    "from sklearn.feature_selection import mutual_info_classif\n",
    "from sklearn.decomposition import PCA\n",
    "from imblearn.over_sampling import SMOTENC\n",
    "from sklearn.model_selection import train_test_split\n",
    "from sklearn.model_selection import cross_val_score\n",
    "from sklearn.ensemble import RandomForestClassifier\n",
    "from sklearn.ensemble import GradientBoostingClassifier\n",
    "from sklearn.metrics import confusion_matrix, classification_report, f1_score\n",
    "import joblib\n",
    "import shap\n",
    "from PIL import Image\n",
    "import PIL\n",
    "\n",
    "%matplotlib inline"
   ]
  },
  {
   "cell_type": "code",
   "execution_count": 2,
   "metadata": {},
   "outputs": [
    {
     "data": {
      "text/plain": [
       "DISTRICTNAME                     0\n",
       "UNITNAME                         0\n",
       "Crime_No                         0\n",
       "Year                             0\n",
       "RI                               0\n",
       "Noofvehicle_involved             0\n",
       "Accident_Classification          2\n",
       "Accident_Spot                    1\n",
       "Accident_Location                3\n",
       "Accident_SubLocation             1\n",
       "Accident_SpotB              125077\n",
       "Main_Cause                       2\n",
       "Hit_Run                          3\n",
       "Severity                         2\n",
       "Collision_Type                   1\n",
       "Junction_Control                 1\n",
       "Road_Character                   4\n",
       "Road_Type                        2\n",
       "Surface_Type                     2\n",
       "Surface_Condition                1\n",
       "Road_Condition                   3\n",
       "Weather                          1\n",
       "Lane_Type                   239253\n",
       "Road_Markings               271601\n",
       "Spot_Conditions             248412\n",
       "Side_Walk                   254704\n",
       "RoadJunction                301761\n",
       "Collision_TypeB             125075\n",
       "Accident_Road                  123\n",
       "Landmark_first                 568\n",
       "landmark_second             255792\n",
       "Distance_LandMark_First        304\n",
       "Distance_LandMark_Second    274895\n",
       "Accident_Description           145\n",
       "Latitude                         0\n",
       "Longitude                        0\n",
       "dtype: int64"
      ]
     },
     "execution_count": 2,
     "metadata": {},
     "output_type": "execute_result"
    }
   ],
   "source": [
    "df = pd.read_csv(\"Copy of Copy of AccidentReports.csv\")\n",
    "df.isna().sum()"
   ]
  },
  {
   "cell_type": "code",
   "execution_count": 3,
   "metadata": {},
   "outputs": [
    {
     "data": {
      "text/plain": [
       "Road_Condition\n",
       "Not Applicable                  220980\n",
       "No influence on accident         64621\n",
       "Pot holed                         5276\n",
       "Construction Work / Material      4408\n",
       "Engineering Defect of Road        3735\n",
       "Drainage Ditch                    2738\n",
       "Name: count, dtype: int64"
      ]
     },
     "execution_count": 3,
     "metadata": {},
     "output_type": "execute_result"
    }
   ],
   "source": [
    "df['Road_Condition'].value_counts()"
   ]
  },
  {
   "cell_type": "code",
   "execution_count": 3,
   "metadata": {},
   "outputs": [
    {
     "data": {
      "text/plain": [
       "DISTRICTNAME                 object\n",
       "UNITNAME                     object\n",
       "Crime_No                      int64\n",
       "Year                          int64\n",
       "RI                            int64\n",
       "Noofvehicle_involved          int64\n",
       "Accident_Classification      object\n",
       "Accident_Spot                object\n",
       "Accident_Location            object\n",
       "Accident_SubLocation         object\n",
       "Accident_SpotB               object\n",
       "Main_Cause                   object\n",
       "Hit_Run                      object\n",
       "Severity                     object\n",
       "Collision_Type               object\n",
       "Junction_Control             object\n",
       "Road_Character               object\n",
       "Road_Type                    object\n",
       "Surface_Type                 object\n",
       "Surface_Condition            object\n",
       "Road_Condition               object\n",
       "Weather                      object\n",
       "Lane_Type                    object\n",
       "Road_Markings                object\n",
       "Spot_Conditions              object\n",
       "Side_Walk                    object\n",
       "RoadJunction                float64\n",
       "Collision_TypeB              object\n",
       "Accident_Road                object\n",
       "Landmark_first               object\n",
       "landmark_second              object\n",
       "Distance_LandMark_First      object\n",
       "Distance_LandMark_Second     object\n",
       "Accident_Description         object\n",
       "Latitude                    float64\n",
       "Longitude                   float64\n",
       "dtype: object"
      ]
     },
     "execution_count": 3,
     "metadata": {},
     "output_type": "execute_result"
    }
   ],
   "source": [
    "df.dtypes"
   ]
  },
  {
   "cell_type": "code",
   "execution_count": 4,
   "metadata": {},
   "outputs": [
    {
     "name": "stdout",
     "output_type": "stream",
     "text": [
      "<class 'pandas.core.frame.DataFrame'>\n",
      "RangeIndex: 301761 entries, 0 to 301760\n",
      "Data columns (total 36 columns):\n",
      " #   Column                    Non-Null Count   Dtype  \n",
      "---  ------                    --------------   -----  \n",
      " 0   DISTRICTNAME              301761 non-null  object \n",
      " 1   UNITNAME                  301761 non-null  object \n",
      " 2   Crime_No                  301761 non-null  int64  \n",
      " 3   Year                      301761 non-null  int64  \n",
      " 4   RI                        301761 non-null  int64  \n",
      " 5   Noofvehicle_involved      301761 non-null  int64  \n",
      " 6   Accident_Classification   301759 non-null  object \n",
      " 7   Accident_Spot             301760 non-null  object \n",
      " 8   Accident_Location         301758 non-null  object \n",
      " 9   Accident_SubLocation      301760 non-null  object \n",
      " 10  Accident_SpotB            176684 non-null  object \n",
      " 11  Main_Cause                301759 non-null  object \n",
      " 12  Hit_Run                   301758 non-null  object \n",
      " 13  Severity                  301759 non-null  object \n",
      " 14  Collision_Type            301760 non-null  object \n",
      " 15  Junction_Control          301760 non-null  object \n",
      " 16  Road_Character            301757 non-null  object \n",
      " 17  Road_Type                 301759 non-null  object \n",
      " 18  Surface_Type              301759 non-null  object \n",
      " 19  Surface_Condition         301760 non-null  object \n",
      " 20  Road_Condition            301758 non-null  object \n",
      " 21  Weather                   301760 non-null  object \n",
      " 22  Lane_Type                 62508 non-null   object \n",
      " 23  Road_Markings             30160 non-null   object \n",
      " 24  Spot_Conditions           53349 non-null   object \n",
      " 25  Side_Walk                 47057 non-null   object \n",
      " 26  RoadJunction              0 non-null       float64\n",
      " 27  Collision_TypeB           176686 non-null  object \n",
      " 28  Accident_Road             301638 non-null  object \n",
      " 29  Landmark_first            301193 non-null  object \n",
      " 30  landmark_second           45969 non-null   object \n",
      " 31  Distance_LandMark_First   301457 non-null  object \n",
      " 32  Distance_LandMark_Second  26866 non-null   object \n",
      " 33  Accident_Description      301616 non-null  object \n",
      " 34  Latitude                  301761 non-null  float64\n",
      " 35  Longitude                 301761 non-null  float64\n",
      "dtypes: float64(3), int64(4), object(29)\n",
      "memory usage: 82.9+ MB\n"
     ]
    }
   ],
   "source": [
    "df.info()"
   ]
  },
  {
   "cell_type": "code",
   "execution_count": 5,
   "metadata": {},
   "outputs": [
    {
     "name": "stdout",
     "output_type": "stream",
     "text": [
      "Severity\n",
      "Grievous Injury    128846\n",
      "Simple Injury       70954\n",
      "Fatal               68604\n",
      "Damage Only         24607\n",
      "Not Applicable       8741\n",
      "BUDDHISTS               2\n",
      "ACHARI                  1\n",
      "Roof                    1\n",
      "Father                  1\n",
      "MEDARA                  1\n",
      "Others                  1\n",
      "Name: count, dtype: int64\n"
     ]
    },
    {
     "data": {
      "text/plain": [
       "<Axes: xlabel='Severity'>"
      ]
     },
     "execution_count": 5,
     "metadata": {},
     "output_type": "execute_result"
    },
    {
     "data": {
      "image/png": "[encoded data removed]",
      "text/plain": [
       "<Figure size 640x480 with 1 Axes>"
      ]
     },
     "metadata": {},
     "output_type": "display_data"
    }
   ],
   "source": [
    "print(df['Severity'].value_counts())\n",
    "df['Severity'].value_counts().plot(kind='bar')"
   ]
  },
  {
   "cell_type": "code",
   "execution_count": 6,
   "metadata": {},
   "outputs": [
    {
     "data": {
      "text/plain": [
       "<Axes: xlabel='Weather'>"
      ]
     },
     "execution_count": 6,
     "metadata": {},
     "output_type": "execute_result"
    },
    {
     "data": {
      "image/png": "[encoded data removed]",
      "text/plain": [
       "<Figure size 640x480 with 1 Axes>"
      ]
     },
     "metadata": {},
     "output_type": "display_data"
    }
   ],
   "source": [
    "df['Weather'].value_counts().plot(kind='bar')"
   ]
  },
  {
   "cell_type": "code",
   "execution_count": 7,
   "metadata": {},
   "outputs": [
    {
     "name": "stdout",
     "output_type": "stream",
     "text": [
      "Lane_Type\n",
      "DualLane        25007\n",
      "Others          17293\n",
      "SingleLane      14628\n",
      "FourLane         4511\n",
      "SixLane           831\n",
      "Intermediate      238\n",
      "Name: count, dtype: int64\n"
     ]
    },
    {
     "data": {
      "text/plain": [
       "<function matplotlib.pyplot.show(close=None, block=None)>"
      ]
     },
     "execution_count": 7,
     "metadata": {},
     "output_type": "execute_result"
    },
    {
     "data": {
      "image/png": "[encoded data removed]",
      "text/plain": [
       "<Figure size 1200x500 with 1 Axes>"
      ]
     },
     "metadata": {},
     "output_type": "display_data"
    }
   ],
   "source": [
    "print(df['Lane_Type'].value_counts())\n",
    "\n",
    "plt.figure(figsize=(12,5))\n",
    "sns.countplot(x='Lane_Type', hue='Severity', data=df)\n",
    "plt.xlabel('Lane_Type')\n",
    "plt.xticks(rotation=60)\n",
    "plt.show"
   ]
  },
  {
   "cell_type": "code",
   "execution_count": 8,
   "metadata": {},
   "outputs": [
    {
     "data": {
      "text/plain": [
       "DISTRICTNAME                     0\n",
       "UNITNAME                         0\n",
       "Crime_No                         0\n",
       "Year                             0\n",
       "RI                               0\n",
       "Noofvehicle_involved             0\n",
       "Accident_Classification          2\n",
       "Accident_Spot                    1\n",
       "Accident_Location                3\n",
       "Accident_SubLocation             1\n",
       "Accident_SpotB              125077\n",
       "Main_Cause                       2\n",
       "Hit_Run                          3\n",
       "Severity                         2\n",
       "Collision_Type                   1\n",
       "Junction_Control                 1\n",
       "Road_Character                   4\n",
       "Road_Type                        2\n",
       "Surface_Type                     2\n",
       "Surface_Condition                1\n",
       "Road_Condition                   3\n",
       "Weather                          1\n",
       "Lane_Type                   239253\n",
       "Road_Markings               271601\n",
       "Spot_Conditions             248412\n",
       "Side_Walk                   254704\n",
       "RoadJunction                301761\n",
       "Collision_TypeB             125075\n",
       "Accident_Road                  123\n",
       "Landmark_first                 568\n",
       "landmark_second             255792\n",
       "Distance_LandMark_First        304\n",
       "Distance_LandMark_Second    274895\n",
       "Accident_Description           145\n",
       "Latitude                         0\n",
       "Longitude                        0\n",
       "dtype: int64"
      ]
     },
     "execution_count": 8,
     "metadata": {},
     "output_type": "execute_result"
    }
   ],
   "source": [
    "df.isnull().sum()"
   ]
  },
  {
   "cell_type": "code",
   "execution_count": 9,
   "metadata": {},
   "outputs": [
    {
     "data": {
      "text/plain": [
       "35"
      ]
     },
     "execution_count": 9,
     "metadata": {},
     "output_type": "execute_result"
    }
   ],
   "source": [
    "features = ['DISTRICTNAME', 'UNITNAME', 'Crime_No', 'Year', 'RI',\n",
    "       'Noofvehicle_involved', 'Accident_Classification', 'Accident_Spot',\n",
    "       'Accident_Location', 'Accident_SubLocation', 'Accident_SpotB',\n",
    "       'Main_Cause', 'Hit_Run', 'Collision_Type',\n",
    "       'Junction_Control', 'Road_Character', 'Road_Type', 'Surface_Type',\n",
    "       'Surface_Condition', 'Road_Condition', 'Weather', 'Lane_Type',\n",
    "       'Road_Markings', 'Spot_Conditions', 'Side_Walk', 'RoadJunction',\n",
    "       'Collision_TypeB', 'Accident_Road', 'Landmark_first', 'landmark_second',\n",
    "       'Distance_LandMark_First', 'Distance_LandMark_Second',\n",
    "       'Accident_Description', 'Latitude', 'Longitude']\n",
    "len(features)"
   ]
  },
  {
   "cell_type": "code",
   "execution_count": 10,
   "metadata": {},
   "outputs": [],
   "source": [
    "featureset_df = df.drop(\"Severity\",axis=1)\n",
    "target = df['Severity']"
   ]
  },
  {
   "cell_type": "code",
   "execution_count": 11,
   "metadata": {},
   "outputs": [],
   "source": [
    "feature_df = featureset_df.copy()"
   ]
  },
  {
   "cell_type": "code",
   "execution_count": 12,
   "metadata": {},
   "outputs": [],
   "source": [
    "feature_df['Accident_SpotB'] = feature_df['Accident_SpotB'].fillna('Unknown')\n",
    "feature_df['Lane_Type'] = feature_df['Lane_Type'].fillna('Unknown')\n",
    "feature_df['Road_Markings'] = feature_df['Road_Markings'].fillna('Unknown')\n",
    "feature_df['Spot_Conditions'] = feature_df['Spot_Conditions'].fillna('Unknown')\n",
    "feature_df['Side_Walk'] = feature_df['Side_Walk'].fillna('Unknown')\n",
    "feature_df['RoadJunction'] = feature_df['RoadJunction'].fillna('Unknown')\n",
    "feature_df['Collision_TypeB'] = feature_df['Collision_TypeB'].fillna('Unknown')\n",
    "feature_df['Accident_Road'] = feature_df['Accident_Road'].fillna('Unknown')\n",
    "feature_df['Landmark_first'] = feature_df['Landmark_first'].fillna('Unknown')\n",
    "feature_df['landmark_second'] = feature_df['landmark_second'].fillna('Unknown')\n",
    "feature_df['Distance_LandMark_First'] = feature_df['Distance_LandMark_First'].fillna('Unknown')\n",
    "feature_df['Distance_LandMark_Second'] = feature_df['Distance_LandMark_Second'].fillna('Unknown')\n",
    "feature_df['Accident_Description'] = feature_df['Accident_Description'].fillna('Unknown')\n"
   ]
  },
  {
   "cell_type": "code",
   "execution_count": 13,
   "metadata": {},
   "outputs": [
    {
     "name": "stdout",
     "output_type": "stream",
     "text": [
      "<class 'pandas.core.frame.DataFrame'>\n",
      "RangeIndex: 301761 entries, 0 to 301760\n",
      "Data columns (total 35 columns):\n",
      " #   Column                    Non-Null Count   Dtype  \n",
      "---  ------                    --------------   -----  \n",
      " 0   DISTRICTNAME              301761 non-null  object \n",
      " 1   UNITNAME                  301761 non-null  object \n",
      " 2   Crime_No                  301761 non-null  int64  \n",
      " 3   Year                      301761 non-null  int64  \n",
      " 4   RI                        301761 non-null  int64  \n",
      " 5   Noofvehicle_involved      301761 non-null  int64  \n",
      " 6   Accident_Classification   301759 non-null  object \n",
      " 7   Accident_Spot             301760 non-null  object \n",
      " 8   Accident_Location         301758 non-null  object \n",
      " 9   Accident_SubLocation      301760 non-null  object \n",
      " 10  Accident_SpotB            301761 non-null  object \n",
      " 11  Main_Cause                301759 non-null  object \n",
      " 12  Hit_Run                   301758 non-null  object \n",
      " 13  Collision_Type            301760 non-null  object \n",
      " 14  Junction_Control          301760 non-null  object \n",
      " 15  Road_Character            301757 non-null  object \n",
      " 16  Road_Type                 301759 non-null  object \n",
      " 17  Surface_Type              301759 non-null  object \n",
      " 18  Surface_Condition         301760 non-null  object \n",
      " 19  Road_Condition            301758 non-null  object \n",
      " 20  Weather                   301760 non-null  object \n",
      " 21  Lane_Type                 301761 non-null  object \n",
      " 22  Road_Markings             301761 non-null  object \n",
      " 23  Spot_Conditions           301761 non-null  object \n",
      " 24  Side_Walk                 301761 non-null  object \n",
      " 25  RoadJunction              301761 non-null  object \n",
      " 26  Collision_TypeB           301761 non-null  object \n",
      " 27  Accident_Road             301761 non-null  object \n",
      " 28  Landmark_first            301761 non-null  object \n",
      " 29  landmark_second           301761 non-null  object \n",
      " 30  Distance_LandMark_First   301761 non-null  object \n",
      " 31  Distance_LandMark_Second  301761 non-null  object \n",
      " 32  Accident_Description      301761 non-null  object \n",
      " 33  Latitude                  301761 non-null  float64\n",
      " 34  Longitude                 301761 non-null  float64\n",
      "dtypes: float64(2), int64(4), object(29)\n",
      "memory usage: 80.6+ MB\n"
     ]
    }
   ],
   "source": [
    "feature_df.info()"
   ]
  },
  {
   "cell_type": "code",
   "execution_count": 14,
   "metadata": {},
   "outputs": [],
   "source": [
    "feature_df[features] = feature_df[features].iloc[:60000]"
   ]
  },
  {
   "cell_type": "code",
   "execution_count": 15,
   "metadata": {},
   "outputs": [],
   "source": [
    "X = feature_df[features].iloc[:60000]\n",
    "y = target.iloc[:60000]\n"
   ]
  },
  {
   "cell_type": "code",
   "execution_count": 16,
   "metadata": {},
   "outputs": [
    {
     "data": {
      "text/plain": [
       "(60000, 123080)"
      ]
     },
     "execution_count": 16,
     "metadata": {},
     "output_type": "execute_result"
    }
   ],
   "source": [
    "# we will use pandas get_dummies method for on-hot encoding\n",
    "encoded_df = pd.get_dummies(X, drop_first=True)\n",
    "encoded_df.shape"
   ]
  },
  {
   "cell_type": "code",
   "execution_count": 17,
   "metadata": {},
   "outputs": [
    {
     "name": "stdout",
     "output_type": "stream",
     "text": [
      "Encoded labels: ['BUDDHISTS' 'Damage Only' 'Fatal' 'Grievous Injury' 'Not Applicable'\n",
      " 'Simple Injury' nan]\n"
     ]
    }
   ],
   "source": [
    "lb = LabelEncoder()\n",
    "lb.fit(y)\n",
    "y_encoded = lb.transform(y)\n",
    "print(\"Encoded labels:\",lb.classes_)\n",
    "y_en = pd.Series(y_encoded)"
   ]
  },
  {
   "cell_type": "code",
   "execution_count": null,
   "metadata": {},
   "outputs": [],
   "source": [
    "mi_calc = mutual_info_classif(encoded_df, y_en, random_state=42)"
   ]
  },
  {
   "cell_type": "code",
   "execution_count": null,
   "metadata": {},
   "outputs": [],
   "source": [
    "mi_df = pd.DataFrame({'Columns':encoded_df.columns, 'MI_score':mi_calc})\n",
    "mi_df.sort_values(by='MI_score',ascending=False).head(15)"
   ]
  },
  {
   "cell_type": "code",
   "execution_count": 18,
   "metadata": {},
   "outputs": [],
   "source": [
    "# feature seleciton method using chi2 for categorical output, categorical input\n",
    "fs = SelectKBest(chi2, k=50)\n",
    "X_new = fs.fit_transform(encoded_df, y_en)\n",
    "X_new.shape\n",
    "cols = fs.get_feature_names_out()"
   ]
  },
  {
   "cell_type": "code",
   "execution_count": 19,
   "metadata": {},
   "outputs": [],
   "source": [
    "fs_df = pd.DataFrame(X_new, columns=cols)"
   ]
  },
  {
   "cell_type": "code",
   "execution_count": 20,
   "metadata": {},
   "outputs": [
    {
     "data": {
      "text/plain": [
       "PC1    2.194085e+28\n",
       "PC2    1.411298e+03\n",
       "PC3    2.019230e+01\n",
       "dtype: float64"
      ]
     },
     "execution_count": 20,
     "metadata": {},
     "output_type": "execute_result"
    }
   ],
   "source": [
    "pca = PCA(n_components=3)\n",
    "pca.fit(encoded_df)\n",
    "\n",
    "X_pca = pca.transform(encoded_df)\n",
    "\n",
    "# 3 components PCA algorithm\n",
    "components = pca.components_\n",
    "\n",
    "pca_df = pd.DataFrame(X_pca, columns=['PC1','PC2','PC3'])\n",
    "pca_df.var()"
   ]
  },
  {
   "cell_type": "code",
   "execution_count": 96,
   "metadata": {},
   "outputs": [],
   "source": [
    "# train and test split and building baseline model to predict target features\n",
    "X_trn, X_tst, y_trn, y_tst = train_test_split(fs_df, y_en, test_size=0.2, random_state=42)\n",
    "\n",
    "# modelling using random forest baseline\n",
    "rf = RandomForestClassifier(n_estimators=800, max_depth=20, random_state=42)\n",
    "rf.fit(X_trn, y_trn)\n",
    "# predicting on test data\n",
    "predics = rf.predict(X_tst)"
   ]
  },
  {
   "cell_type": "code",
   "execution_count": 97,
   "metadata": {},
   "outputs": [
    {
     "data": {
      "text/plain": [
       "0.7664375"
      ]
     },
     "execution_count": 97,
     "metadata": {},
     "output_type": "execute_result"
    }
   ],
   "source": [
    "# train score \n",
    "rf.score(X_trn, y_trn)"
   ]
  },
  {
   "cell_type": "code",
   "execution_count": 98,
   "metadata": {},
   "outputs": [
    {
     "name": "stdout",
     "output_type": "stream",
     "text": [
      "              precision    recall  f1-score   support\n",
      "\n",
      "           0       0.42      0.14      0.21      1119\n",
      "           1       0.47      0.25      0.32      2678\n",
      "           2       0.57      0.85      0.68      5861\n",
      "           3       0.52      0.36      0.43      2185\n",
      "           4       0.17      0.03      0.04       157\n",
      "\n",
      "    accuracy                           0.55     12000\n",
      "   macro avg       0.43      0.32      0.34     12000\n",
      "weighted avg       0.52      0.55      0.50     12000\n",
      "\n"
     ]
    }
   ],
   "source": [
    "classif_re = classification_report(y_tst,predics)\n",
    "print(classif_re)"
   ]
  },
  {
   "cell_type": "code",
   "execution_count": 99,
   "metadata": {},
   "outputs": [
    {
     "name": "stdout",
     "output_type": "stream",
     "text": [
      "0.5029117715473864\n"
     ]
    }
   ],
   "source": [
    "f1score = f1_score(y_tst,predics, average='weighted')\n",
    "print(f1score)\n"
   ]
  },
  {
   "cell_type": "markdown",
   "metadata": {},
   "source": [
    "Streamlit\n"
   ]
  },
  {
   "cell_type": "code",
   "execution_count": 106,
   "metadata": {},
   "outputs": [
    {
     "name": "stdout",
     "output_type": "stream",
     "text": [
      "<class 'pandas.core.frame.DataFrame'>\n",
      "RangeIndex: 301761 entries, 0 to 301760\n",
      "Data columns (total 36 columns):\n",
      " #   Column                    Non-Null Count   Dtype  \n",
      "---  ------                    --------------   -----  \n",
      " 0   DISTRICTNAME              301761 non-null  object \n",
      " 1   UNITNAME                  301761 non-null  object \n",
      " 2   Crime_No                  301761 non-null  int64  \n",
      " 3   Year                      301761 non-null  int64  \n",
      " 4   RI                        301761 non-null  int64  \n",
      " 5   Noofvehicle_involved      301761 non-null  int64  \n",
      " 6   Accident_Classification   301759 non-null  object \n",
      " 7   Accident_Spot             301760 non-null  object \n",
      " 8   Accident_Location         301758 non-null  object \n",
      " 9   Accident_SubLocation      301760 non-null  object \n",
      " 10  Accident_SpotB            176684 non-null  object \n",
      " 11  Main_Cause                301759 non-null  object \n",
      " 12  Hit_Run                   301758 non-null  object \n",
      " 13  Severity                  301761 non-null  object \n",
      " 14  Collision_Type            301760 non-null  object \n",
      " 15  Junction_Control          301760 non-null  object \n",
      " 16  Road_Character            301757 non-null  object \n",
      " 17  Road_Type                 301759 non-null  object \n",
      " 18  Surface_Type              301759 non-null  object \n",
      " 19  Surface_Condition         301760 non-null  object \n",
      " 20  Road_Condition            301758 non-null  object \n",
      " 21  Weather                   301760 non-null  object \n",
      " 22  Lane_Type                 62508 non-null   object \n",
      " 23  Road_Markings             30160 non-null   object \n",
      " 24  Spot_Conditions           53349 non-null   object \n",
      " 25  Side_Walk                 47057 non-null   object \n",
      " 26  RoadJunction              0 non-null       float64\n",
      " 27  Collision_TypeB           176686 non-null  object \n",
      " 28  Accident_Road             301638 non-null  object \n",
      " 29  Landmark_first            301193 non-null  object \n",
      " 30  landmark_second           45969 non-null   object \n",
      " 31  Distance_LandMark_First   301457 non-null  object \n",
      " 32  Distance_LandMark_Second  26866 non-null   object \n",
      " 33  Accident_Description      301616 non-null  object \n",
      " 34  Latitude                  301761 non-null  float64\n",
      " 35  Longitude                 301761 non-null  float64\n",
      "dtypes: float64(3), int64(4), object(29)\n",
      "memory usage: 82.9+ MB\n"
     ]
    }
   ],
   "source": [
    "df.info()"
   ]
  },
  {
   "cell_type": "code",
   "execution_count": null,
   "metadata": {},
   "outputs": [],
   "source": []
  },
  {
   "cell_type": "code",
   "execution_count": 146,
   "metadata": {},
   "outputs": [
    {
     "data": {
      "text/plain": [
       "['ordinal_encoder2.joblib']"
      ]
     },
     "execution_count": 146,
     "metadata": {},
     "output_type": "execute_result"
    }
   ],
   "source": [
    "# selecting 7 categorical features from the dataframe\n",
    "import joblib\n",
    "from sklearn.preprocessing import OrdinalEncoder\n",
    "\n",
    "new_fea_df = feature_df[['Accident_Classification','Accident_Spot','Accident_Location']]\n",
    "\n",
    "oencoder2 = OrdinalEncoder()\n",
    "encoded_df3 = pd.DataFrame(oencoder2.fit_transform(new_fea_df))\n",
    "encoded_df3.columns = new_fea_df.columns\n",
    "\n",
    "# save the ordinal encoder object for inference pipeline\n",
    "joblib.dump(oencoder2, \"ordinal_encoder2.joblib\")"
   ]
  },
  {
   "cell_type": "code",
   "execution_count": 159,
   "metadata": {},
   "outputs": [],
   "source": [
    "s_final_df = pd.concat([feature_df['Noofvehicle_involved'],encoded_df3], axis=1)\n",
    "s_final_df = s_final_df.iloc[:60000]"
   ]
  },
  {
   "cell_type": "code",
   "execution_count": 161,
   "metadata": {},
   "outputs": [
    {
     "data": {
      "text/plain": [
       "['rta_model_deploy3.joblib']"
      ]
     },
     "execution_count": 161,
     "metadata": {},
     "output_type": "execute_result"
    }
   ],
   "source": [
    "\n",
    "\n",
    "# train and test split and building baseline model to predict target features\n",
    "X_trn2, X_tst2, y_trn2, y_tst2 = train_test_split(s_final_df, y_en, test_size=0.2, random_state=42)\n",
    "\n",
    "# modelling using random forest baseline\n",
    "rf = RandomForestClassifier(n_estimators=700, max_depth=20, random_state=42)\n",
    "rf.fit(X_trn2, y_trn2)\n",
    "\n",
    "# save the model object\n",
    "joblib.dump(rf, \"rta_model_deploy3.joblib\", compress=9)"
   ]
  },
  {
   "cell_type": "code",
   "execution_count": null,
   "metadata": {},
   "outputs": [],
   "source": [
    "from sklearn.ensemble import GradientBoostingRegressor\n",
    "from sklearn.metrics import mean_absolute_error\n",
    "from sklearn.metrics import r2_score\n",
    "\n",
    "X_trn, X_tst, y_trn, y_tst = train_test_split(fs_df, y_en, test_size=0.2, random_state=42)\n",
    "\n",
    "Gradient_model = GradientBoostingRegressor()\n",
    "Gradient_model.fit(X_trn, y_trn)\n",
    "preds = Gradient_model.predict(X_tst)\n",
    "print(mean_absolute_error(y_tst, preds))\n",
    "r2_score(y_tst, Gradient_model.predict(X_tst))\n",
    "print(Gradient_model.score(X_trn,y_trn))\n",
    "\n",
    "f1score = f1_score(y_tst,preds, average='weighted')\n",
    "print(f1score)\n",
    "\n",
    "rf.fit(X_trn,y_trn)\n"
   ]
  },
  {
   "cell_type": "code",
   "execution_count": 176,
   "metadata": {},
   "outputs": [
    {
     "data": {
      "text/plain": [
       "Accident_Classification\n",
       "Road Accidents             56556\n",
       "Not Applicable              2821\n",
       "Rail Road Accidents          549\n",
       "Other Railway Accidents       74\n",
       "Name: count, dtype: int64"
      ]
     },
     "execution_count": 176,
     "metadata": {},
     "output_type": "execute_result"
    }
   ],
   "source": [
    "feature_df['Accident_Classification'].value_counts()"
   ]
  },
  {
   "cell_type": "code",
   "execution_count": 177,
   "metadata": {},
   "outputs": [
    {
     "data": {
      "text/plain": [
       "array(['Bottleneck', 'Bridge', 'Cross roads', 'Not Applicable',\n",
       "       'More than four arms', 'Road hump or Rumble strips', 'Junction',\n",
       "       'Curves', 'Other', 'T Junction', 'Offset', 'Narrow road',\n",
       "       'Culvert', 'Staggered junction', 'Y Junction', 'Circle',\n",
       "       'Railway crossing', 'Rail Crossing manned',\n",
       "       'Round about or Circle', 'Rail Crossing Unmanned', nan],\n",
       "      dtype=object)"
      ]
     },
     "execution_count": 177,
     "metadata": {},
     "output_type": "execute_result"
    }
   ],
   "source": [
    "feature_df['Accident_Spot'].unique()"
   ]
  },
  {
   "cell_type": "code",
   "execution_count": 178,
   "metadata": {},
   "outputs": [
    {
     "data": {
      "text/plain": [
       "array(['Rural Areas', 'Villages settlement', 'City/Town',\n",
       "       'Not Applicable', nan], dtype=object)"
      ]
     },
     "execution_count": 178,
     "metadata": {},
     "output_type": "execute_result"
    }
   ],
   "source": [
    "feature_df['Accident_Location'].unique()"
   ]
  },
  {
   "cell_type": "code",
   "execution_count": 168,
   "metadata": {},
   "outputs": [
    {
     "data": {
      "text/plain": [
       "Noofvehicle_involved\n",
       "2.0     31357\n",
       "1.0     26963\n",
       "3.0      1350\n",
       "4.0       234\n",
       "5.0        55\n",
       "6.0        19\n",
       "7.0        11\n",
       "8.0         5\n",
       "9.0         2\n",
       "10.0        2\n",
       "49.0        1\n",
       "21.0        1\n",
       "Name: count, dtype: int64"
      ]
     },
     "execution_count": 168,
     "metadata": {},
     "output_type": "execute_result"
    }
   ],
   "source": [
    "feature_df['Noofvehicle_involved'].value_counts()"
   ]
  },
  {
   "cell_type": "code",
   "execution_count": null,
   "metadata": {},
   "outputs": [],
   "source": [
    "# Import necessary libraries\n",
    "import pandas as pd\n",
    "from sklearn.cluster import KMeans\n",
    "import folium\n",
    "\n",
    "#X_trn2, X_tst2, y_trn2, y_tst2 = train_test_split(s_final_df, y_en, test_size=0.2, random_state=42)\n",
    "\n",
    "# Load past crime data\n",
    "crime_data = pd.read_csv('Copy of Copy of AccidentReports.csv')\n",
    "\n",
    "# Select relevant features for clustering\n",
    "X = crime_data[['Latitude', 'Longitude']]\n",
    "\n",
    "\n",
    "X_trn2, X_tst2  = train_test_split(X, test_size=0.2, random_state=42)\n",
    "\n",
    "# Initialize K-Means model with desired number of clusters\n",
    "kmeans = KMeans(n_clusters=5)\n",
    "\n",
    "# Fit the model to the data\n",
    "kmeans.fit(X_trn2)\n",
    "\n",
    "# Define new_data for future crime locations (sample data)\n",
    "#new_data = pd.DataFrame({'Latitude': [34.05, 34.06, 34.07], 'Longitude': [-118.25, -118.24, -118.26]})\n",
    "\n",
    "# Predict clusters for future crime locations\n",
    "future_crime_locations = kmeans.predict(X_tst2)\n",
    "\n",
    "# Create a map centered at the mean latitude and longitude of the crime data\n",
    "map_center = [X['Latitude'].mean(), X['Longitude'].mean()]\n",
    "crime_map = folium.Map(location=map_center, zoom_start=12)\n",
    "\n",
    "# Add past crime locations to the map\n",
    "for index, row in X.iterrows():\n",
    "    folium.Marker([row['Latitude'], row['Longitude']], popup=row['CrimeType']).add_to(crime_map)\n",
    "\n",
    "# Add future crime locations to the map\n",
    "for index, row in new_data.iterrows():\n",
    "    folium.Marker([row['Latitude'], row['Longitude']], popup='Future Crime Location').add_to(crime_map)\n",
    "\n",
    "# Display the map\n",
    "crime_map\n"
   ]
  }
 ],
 "metadata": {
  "kernelspec": {
   "display_name": "Python 3",
   "language": "python",
   "name": "python3"
  },
  "language_info": {
   "codemirror_mode": {
    "name": "ipython",
    "version": 3
   },
   "file_extension": ".py",
   "mimetype": "text/x-python",
   "name": "python",
   "nbconvert_exporter": "python",
   "pygments_lexer": "ipython3",
   "version": "3.12.2"
  }
 },
 "nbformat": 4,
 "nbformat_minor": 2
}
